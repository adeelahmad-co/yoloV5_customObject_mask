{
  "nbformat": 4,
  "nbformat_minor": 0,
  "metadata": {
    "colab": {
      "name": "yoloV5_customObject_mask.ipynb",
      "provenance": [],
      "collapsed_sections": [],
      "toc_visible": true
    },
    "kernelspec": {
      "name": "python3",
      "display_name": "Python 3"
    },
    "accelerator": "TPU"
  },
  "cells": [
    {
      "cell_type": "markdown",
      "metadata": {
        "id": "gnJ9HtLh1zsX"
      },
      "source": [
        "# If you dont want to train skip step 2,3,5,6\r\n"
      ]
    },
    {
      "cell_type": "markdown",
      "metadata": {
        "id": "BX3HDLsiWmW4"
      },
      "source": [
        "# **Step 1: Clone Repo and install all dependencies**"
      ]
    },
    {
      "cell_type": "code",
      "metadata": {
        "id": "wbvMlHd_QwMG"
      },
      "source": [
        "!git clone https://github.com/ultralytics/yolov5\n",
        "!pip install -qr yolov5/requirements.txt\n",
        "%cd yolov5\n",
        "\n",
        "import torch\n",
        "from IPython.display import Image, clear_output\n",
        "from utils.google_utils import gdrive_download\n",
        "\n",
        "clear_output()"
      ],
      "execution_count": 2,
      "outputs": []
    },
    {
      "cell_type": "markdown",
      "metadata": {
        "id": "M1L6xNMqWvbx"
      },
      "source": [
        "# **Step 2: Download the custom data-set that you are interested in (using the Roboflow api)**  [Link to datasets](https://public.roboflow.com/)"
      ]
    },
    {
      "cell_type": "code",
      "metadata": {
        "id": "rDQdEcQxr6X5"
      },
      "source": [
        "%cd /content\n",
        "!curl -L \"PASTE YOUR LINK HERE\" > roboflow.zip; unzip roboflow.zip; rm roboflow.zip"
      ],
      "execution_count": null,
      "outputs": []
    },
    {
      "cell_type": "markdown",
      "metadata": {
        "id": "LooXA8cGW8A7"
      },
      "source": [
        "# **Step 3: Create the custom model configuration file**"
      ]
    },
    {
      "cell_type": "code",
      "metadata": {
        "id": "ZZ3DmmGQztJj"
      },
      "source": [
        "#extracting information from the roboflow file\n",
        "%cat data.yaml"
      ],
      "execution_count": null,
      "outputs": []
    },
    {
      "cell_type": "code",
      "metadata": {
        "id": "WkHH9bNiu1EO"
      },
      "source": [
        "# define number of classes based on data.yaml\n",
        "import yaml\n",
        "with open(\"data.yaml\", 'r') as stream:\n",
        "    num_classes = str(yaml.safe_load(stream)['nc'])"
      ],
      "execution_count": null,
      "outputs": []
    },
    {
      "cell_type": "code",
      "metadata": {
        "id": "Z814lxPAvBz7",
        "colab": {
          "base_uri": "https://localhost:8080/"
        },
        "outputId": "af07aa94-43d5-4ed9-9c31-e317b77f78e0"
      },
      "source": [
        "%cat /content/yolov5/models/yolov5s.yaml"
      ],
      "execution_count": null,
      "outputs": [
        {
          "output_type": "stream",
          "text": [
            "# parameters\n",
            "nc: 80  # number of classes\n",
            "depth_multiple: 0.33  # model depth multiple\n",
            "width_multiple: 0.50  # layer channel multiple\n",
            "\n",
            "# anchors\n",
            "anchors:\n",
            "  - [10,13, 16,30, 33,23]  # P3/8\n",
            "  - [30,61, 62,45, 59,119]  # P4/16\n",
            "  - [116,90, 156,198, 373,326]  # P5/32\n",
            "\n",
            "# YOLOv5 backbone\n",
            "backbone:\n",
            "  # [from, number, module, args]\n",
            "  [[-1, 1, Focus, [64, 3]],  # 0-P1/2\n",
            "   [-1, 1, Conv, [128, 3, 2]],  # 1-P2/4\n",
            "   [-1, 3, BottleneckCSP, [128]],\n",
            "   [-1, 1, Conv, [256, 3, 2]],  # 3-P3/8\n",
            "   [-1, 9, BottleneckCSP, [256]],\n",
            "   [-1, 1, Conv, [512, 3, 2]],  # 5-P4/16\n",
            "   [-1, 9, BottleneckCSP, [512]],\n",
            "   [-1, 1, Conv, [1024, 3, 2]],  # 7-P5/32\n",
            "   [-1, 1, SPP, [1024, [5, 9, 13]]],\n",
            "   [-1, 3, BottleneckCSP, [1024, False]],  # 9\n",
            "  ]\n",
            "\n",
            "# YOLOv5 head\n",
            "head:\n",
            "  [[-1, 1, Conv, [512, 1, 1]],\n",
            "   [-1, 1, nn.Upsample, [None, 2, 'nearest']],\n",
            "   [[-1, 6], 1, Concat, [1]],  # cat backbone P4\n",
            "   [-1, 3, BottleneckCSP, [512, False]],  # 13\n",
            "\n",
            "   [-1, 1, Conv, [256, 1, 1]],\n",
            "   [-1, 1, nn.Upsample, [None, 2, 'nearest']],\n",
            "   [[-1, 4], 1, Concat, [1]],  # cat backbone P3\n",
            "   [-1, 3, BottleneckCSP, [256, False]],  # 17 (P3/8-small)\n",
            "\n",
            "   [-1, 1, Conv, [256, 3, 2]],\n",
            "   [[-1, 14], 1, Concat, [1]],  # cat head P4\n",
            "   [-1, 3, BottleneckCSP, [512, False]],  # 20 (P4/16-medium)\n",
            "\n",
            "   [-1, 1, Conv, [512, 3, 2]],\n",
            "   [[-1, 10], 1, Concat, [1]],  # cat head P5\n",
            "   [-1, 3, BottleneckCSP, [1024, False]],  # 23 (P5/32-large)\n",
            "\n",
            "   [[17, 20, 23], 1, Detect, [nc, anchors]],  # Detect(P3, P4, P5)\n",
            "  ]\n"
          ],
          "name": "stdout"
        }
      ]
    },
    {
      "cell_type": "markdown",
      "metadata": {
        "id": "cIE68gva3q7x"
      },
      "source": [
        "#**Step** **4** : Change configration File"
      ]
    },
    {
      "cell_type": "code",
      "metadata": {
        "id": "EbfPCs5Dvwl6"
      },
      "source": [
        "num_classes = 2"
      ],
      "execution_count": null,
      "outputs": []
    },
    {
      "cell_type": "code",
      "metadata": {
        "id": "oojOSw3GvIsT"
      },
      "source": [
        "#customize iPython writefile so we can write variables\n",
        "from IPython.core.magic import register_line_cell_magic\n",
        "\n",
        "@register_line_cell_magic\n",
        "def writetemplate(line, cell):\n",
        "    with open(line, 'w') as f:\n",
        "        f.write(cell.format(**globals()))"
      ],
      "execution_count": null,
      "outputs": []
    },
    {
      "cell_type": "code",
      "metadata": {
        "id": "uDxebz13RdRA"
      },
      "source": [
        "%%writetemplate /content/yolov5/models/custom_yolov5s.yaml\n",
        "\n",
        "# parameters\n",
        "nc: {num_classes}  # number of classes\n",
        "depth_multiple: 0.33  # model depth multiple\n",
        "width_multiple: 0.50  # layer channel multiple\n",
        "\n",
        "# anchors\n",
        "anchors:\n",
        "  - [10,13, 16,30, 33,23]  # P3/8\n",
        "  - [30,61, 62,45, 59,119]  # P4/16\n",
        "  - [116,90, 156,198, 373,326]  # P5/32\n",
        "\n",
        "# YOLOv5 backbone\n",
        "backbone:\n",
        "  # [from, number, module, args]\n",
        "  [[-1, 1, Focus, [64, 3]],  # 0-P1/2\n",
        "   [-1, 1, Conv, [128, 3, 2]],  # 1-P2/4\n",
        "   [-1, 3, BottleneckCSP, [128]],\n",
        "   [-1, 1, Conv, [256, 3, 2]],  # 3-P3/8\n",
        "   [-1, 9, BottleneckCSP, [256]],\n",
        "   [-1, 1, Conv, [512, 3, 2]],  # 5-P4/16\n",
        "   [-1, 9, BottleneckCSP, [512]],\n",
        "   [-1, 1, Conv, [1024, 3, 2]],  # 7-P5/32\n",
        "   [-1, 1, SPP, [1024, [5, 9, 13]]],\n",
        "   [-1, 3, BottleneckCSP, [1024, False]],  # 9\n",
        "  ]\n",
        "\n",
        "# YOLOv5 head\n",
        "head:\n",
        "  [[-1, 1, Conv, [512, 1, 1]],\n",
        "   [-1, 1, nn.Upsample, [None, 2, 'nearest']],\n",
        "   [[-1, 6], 1, Concat, [1]],  # cat backbone P4\n",
        "   [-1, 3, BottleneckCSP, [512, False]],  # 13\n",
        "\n",
        "   [-1, 1, Conv, [256, 1, 1]],\n",
        "   [-1, 1, nn.Upsample, [None, 2, 'nearest']],\n",
        "   [[-1, 4], 1, Concat, [1]],  # cat backbone P3\n",
        "   [-1, 3, BottleneckCSP, [256, False]],  # 17 (P3/8-small)\n",
        "\n",
        "   [-1, 1, Conv, [256, 3, 2]],\n",
        "   [[-1, 14], 1, Concat, [1]],  # cat head P4\n",
        "   [-1, 3, BottleneckCSP, [512, False]],  # 20 (P4/16-medium)\n",
        "\n",
        "   [-1, 1, Conv, [512, 3, 2]],\n",
        "   [[-1, 10], 1, Concat, [1]],  # cat head P5\n",
        "   [-1, 3, BottleneckCSP, [1024, False]],  # 23 (P5/32-large)\n",
        "\n",
        "   [[17, 20, 23], 1, Detect, [nc, anchors]],  # Detect(P3, P4, P5)\n",
        "  ]"
      ],
      "execution_count": null,
      "outputs": []
    },
    {
      "cell_type": "markdown",
      "metadata": {
        "id": "TAUZD9J_XSj8"
      },
      "source": [
        "# **Step 5: Train yolov5 on the custom images using the custom configuration file**"
      ]
    },
    {
      "cell_type": "code",
      "metadata": {
        "id": "1NcFxRcFdJ_O"
      },
      "source": [
        "# train yolov5s on custom data for 100 epochs\n",
        "# time its performance\n",
        "%%time\n",
        "%cd /content/yolov5/\n",
        "!python train.py --img 416 --batch 16 --epochs 100 --data '../data.yaml' --cfg ./models/custom_yolov5s.yaml --weights '' --name yolov5s_results  --cache"
      ],
      "execution_count": null,
      "outputs": []
    },
    {
      "cell_type": "markdown",
      "metadata": {
        "id": "iDpFbc3aXjGw"
      },
      "source": [
        "#**Step 6: Run yolov5 detection on images.**\n",
        "# *Don't forget to copy the location of the weights file and replace it in the code below*"
      ]
    },
    {
      "cell_type": "code",
      "metadata": {
        "id": "PF9MLHDb7tB6"
      },
      "source": [
        "!python detect.py --weights runs/exp0_yolov5s_results/weights/best.pt --img 416 --conf 0.4 --source ../test/images"
      ],
      "execution_count": null,
      "outputs": []
    },
    {
      "cell_type": "code",
      "metadata": {
        "id": "4Gb0sQDy3TvJ"
      },
      "source": [
        "import glob\n",
        "from IPython.display import Image, display\n",
        "\n",
        "for imageName in glob.glob('/content/yolov5/inference/output/*.jpg'):\n",
        "    display(Image(filename=imageName))\n",
        "    print(\"\\n\")"
      ],
      "execution_count": null,
      "outputs": []
    },
    {
      "cell_type": "markdown",
      "metadata": {
        "id": "BKZkqIpB4VSM"
      },
      "source": [
        "#*Step** **7** : Pretrained model"
      ]
    },
    {
      "cell_type": "code",
      "metadata": {
        "colab": {
          "base_uri": "https://localhost:8080/"
        },
        "id": "pVbgnaOywBM9",
        "outputId": "5d8ef593-294b-42ef-9f81-40a7afbc0da6"
      },
      "source": [
        "!git clone https://github.com/adeelahmad-co/yoloV5_customObject_mask"
      ],
      "execution_count": 3,
      "outputs": [
        {
          "output_type": "stream",
          "text": [
            "Cloning into 'yoloV5_customObject_mask'...\n",
            "remote: Enumerating objects: 7, done.\u001b[K\n",
            "remote: Counting objects: 100% (7/7), done.\u001b[K\n",
            "remote: Compressing objects: 100% (6/6), done.\u001b[K\n",
            "remote: Total 7 (delta 0), reused 0 (delta 0), pack-reused 0\u001b[K\n",
            "Unpacking objects: 100% (7/7), done.\n"
          ],
          "name": "stdout"
        }
      ]
    },
    {
      "cell_type": "code",
      "metadata": {
        "colab": {
          "base_uri": "https://localhost:8080/"
        },
        "id": "yjh66X1-wigL",
        "outputId": "11b914c9-8688-44b2-f6a8-b080f78d7fbb"
      },
      "source": [
        "!python detect.py --weights yoloV5_customObject_mask/mask.pt --img 416 --conf 0.4 --source yoloV5_customObject_mask/salman.jpg"
      ],
      "execution_count": 4,
      "outputs": [
        {
          "output_type": "stream",
          "text": [
            "Namespace(agnostic_nms=False, augment=False, classes=None, conf_thres=0.4, device='', exist_ok=False, img_size=416, iou_thres=0.45, name='exp', project='runs/detect', save_conf=False, save_txt=False, source='yoloV5_customObject_mask/salman.jpg', update=False, view_img=False, weights=['yoloV5_customObject_mask/mask.pt'])\n",
            "Using torch 1.7.0+cu101 CPU\n",
            "\n",
            "Fusing layers... \n",
            "Model Summary: 232 layers, 7249215 parameters, 0 gradients, 16.8 GFLOPS\n",
            "image 1/1 /content/yolov5/yoloV5_customObject_mask/salman.jpg: 256x416 1 masks, Done. (0.196s)\n",
            "Results saved to runs/detect/exp\n",
            "Done. (0.274s)\n"
          ],
          "name": "stdout"
        }
      ]
    },
    {
      "cell_type": "code",
      "metadata": {
        "id": "0DFCH4OSxFls",
        "colab": {
          "base_uri": "https://localhost:8080/",
          "height": 453
        },
        "outputId": "81b2b9ac-ff43-4154-df2a-ba3a15297f85"
      },
      "source": [
        "import glob\r\n",
        "from IPython.display import Image, display\r\n",
        "\r\n",
        "for imageName in glob.glob('/content/yolov5/runs/detect/exp/*.jpg'):\r\n",
        "    display(Image(filename=imageName))\r\n",
        "    print(\"\\n\")"
      ],
      "execution_count": 5,
      "outputs": [
        {
          "output_type": "display_data",
          "data": {
            "image/jpeg": "[encoded data removed]",
            "text/plain": [
              "<IPython.core.display.Image object>"
            ]
          },
          "metadata": {
            "tags": []
          }
        },
        {
          "output_type": "stream",
          "text": [
            "\n",
            "\n"
          ],
          "name": "stdout"
        }
      ]
    },
    {
      "cell_type": "code",
      "metadata": {
        "id": "vIp05Ds2rVGl"
      },
      "source": [
        "import base64\r\n",
        "import html\r\n",
        "import io\r\n",
        "import time\r\n",
        " \r\n",
        "from IPython.display import display, Javascript\r\n",
        "from google.colab.output import eval_js\r\n",
        "import numpy as np\r\n",
        "from PIL import Image\r\n",
        "import cv2\r\n",
        " \r\n",
        "def start_input():\r\n",
        "  js = Javascript('''\r\n",
        "    var video;\r\n",
        "    var div = null;\r\n",
        "    var stream;\r\n",
        "    var captureCanvas;\r\n",
        "    var imgElement;\r\n",
        "    var labelElement;\r\n",
        "    \r\n",
        "    var pendingResolve = null;\r\n",
        "    var shutdown = false;\r\n",
        "    \r\n",
        "    function removeDom() {\r\n",
        "       stream.getVideoTracks()[0].stop();\r\n",
        "       video.remove();\r\n",
        "       div.remove();\r\n",
        "       video = null;\r\n",
        "       div = null;\r\n",
        "       stream = null;\r\n",
        "       imgElement = null;\r\n",
        "       captureCanvas = null;\r\n",
        "       labelElement = null;\r\n",
        "    }\r\n",
        "    \r\n",
        "    function onAnimationFrame() {\r\n",
        "      if (!shutdown) {\r\n",
        "        window.requestAnimationFrame(onAnimationFrame);\r\n",
        "      }\r\n",
        "      if (pendingResolve) {\r\n",
        "        var result = \"\";\r\n",
        "        if (!shutdown) {\r\n",
        "          captureCanvas.getContext('2d').drawImage(video, 0, 0, 512, 512);\r\n",
        "          result = captureCanvas.toDataURL('image/jpeg', 0.8)\r\n",
        "        }\r\n",
        "        var lp = pendingResolve;\r\n",
        "        pendingResolve = null;\r\n",
        "        lp(result);\r\n",
        "      }\r\n",
        "    }\r\n",
        "    \r\n",
        "    async function createDom() {\r\n",
        "      if (div !== null) {\r\n",
        "        return stream;\r\n",
        "      }\r\n",
        " \r\n",
        "      div = document.createElement('div');\r\n",
        "      div.style.border = '2px solid black';\r\n",
        "      div.style.padding = '3px';\r\n",
        "      div.style.width = '100%';\r\n",
        "      div.style.maxWidth = '600px';\r\n",
        "      document.body.appendChild(div);\r\n",
        "      \r\n",
        "      const modelOut = document.createElement('div');\r\n",
        "      modelOut.innerHTML = \"<span>Status:</span>\";\r\n",
        "      labelElement = document.createElement('span');\r\n",
        "      labelElement.innerText = 'No data';\r\n",
        "      labelElement.style.fontWeight = 'bold';\r\n",
        "      modelOut.appendChild(labelElement);\r\n",
        "      div.appendChild(modelOut);\r\n",
        "           \r\n",
        "      video = document.createElement('video');\r\n",
        "      video.style.display = 'block';\r\n",
        "      video.width = div.clientWidth - 6;\r\n",
        "      video.setAttribute('playsinline', '');\r\n",
        "      video.onclick = () => { shutdown = true; };\r\n",
        "      stream = await navigator.mediaDevices.getUserMedia(\r\n",
        "          {video: { facingMode: \"environment\"}});\r\n",
        "      div.appendChild(video);\r\n",
        " \r\n",
        "      imgElement = document.createElement('img');\r\n",
        "      imgElement.style.position = 'absolute';\r\n",
        "      imgElement.style.zIndex = 1;\r\n",
        "      imgElement.onclick = () => { shutdown = true; };\r\n",
        "      div.appendChild(imgElement);\r\n",
        "      \r\n",
        "      const instruction = document.createElement('div');\r\n",
        "      instruction.innerHTML = \r\n",
        "          '<span style=\"color: red; font-weight: bold;\">' +\r\n",
        "          'When finished, click here or on the video to stop this demo</span>';\r\n",
        "      div.appendChild(instruction);\r\n",
        "      instruction.onclick = () => { shutdown = true; };\r\n",
        "      \r\n",
        "      video.srcObject = stream;\r\n",
        "      await video.play();\r\n",
        " \r\n",
        "      captureCanvas = document.createElement('canvas');\r\n",
        "      captureCanvas.width = 512; //video.videoWidth;\r\n",
        "      captureCanvas.height = 512; //video.videoHeight;\r\n",
        "      window.requestAnimationFrame(onAnimationFrame);\r\n",
        "      \r\n",
        "      return stream;\r\n",
        "    }\r\n",
        "    async function takePhoto(label, imgData) {\r\n",
        "      if (shutdown) {\r\n",
        "        removeDom();\r\n",
        "        shutdown = false;\r\n",
        "        return '';\r\n",
        "      }\r\n",
        " \r\n",
        "      var preCreate = Date.now();\r\n",
        "      stream = await createDom();\r\n",
        "      \r\n",
        "      var preShow = Date.now();\r\n",
        "      if (label != \"\") {\r\n",
        "        labelElement.innerHTML = label;\r\n",
        "      }\r\n",
        "            \r\n",
        "      if (imgData != \"\") {\r\n",
        "        var videoRect = video.getClientRects()[0];\r\n",
        "        imgElement.style.top = videoRect.top + \"px\";\r\n",
        "        imgElement.style.left = videoRect.left + \"px\";\r\n",
        "        imgElement.style.width = videoRect.width + \"px\";\r\n",
        "        imgElement.style.height = videoRect.height + \"px\";\r\n",
        "        imgElement.src = imgData;\r\n",
        "      }\r\n",
        "      \r\n",
        "      var preCapture = Date.now();\r\n",
        "      var result = await new Promise(function(resolve, reject) {\r\n",
        "        pendingResolve = resolve;\r\n",
        "      });\r\n",
        "      shutdown = false;\r\n",
        "      \r\n",
        "      return {'create': preShow - preCreate, \r\n",
        "              'show': preCapture - preShow, \r\n",
        "              'capture': Date.now() - preCapture,\r\n",
        "              'img': result};\r\n",
        "    }\r\n",
        "    ''')\r\n",
        " \r\n",
        "  display(js)\r\n",
        "  \r\n",
        "def take_photo(label, img_data):\r\n",
        "  data = eval_js('takePhoto(\"{}\", \"{}\")'.format(label, img_data))\r\n",
        "  return data"
      ],
      "execution_count": null,
      "outputs": []
    },
    {
      "cell_type": "code",
      "metadata": {
        "id": "eLuE6t8drj4q"
      },
      "source": [
        "def letterbox(img, new_shape=(640, 640), color=(114, 114, 114), auto=True, scaleFill=False, scaleup=True):\r\n",
        "    # Resize image to a 32-pixel-multiple rectangle https://github.com/ultralytics/yolov3/issues/232\r\n",
        "    shape = img.shape[:2]  # current shape [height, width]\r\n",
        "    if isinstance(new_shape, int):\r\n",
        "        new_shape = (new_shape, new_shape)\r\n",
        " \r\n",
        "    # Scale ratio (new / old)\r\n",
        "    r = min(new_shape[0] / shape[0], new_shape[1] / shape[1])\r\n",
        "    if not scaleup:  # only scale down, do not scale up (for better test mAP)\r\n",
        "        r = min(r, 1.0)\r\n",
        " \r\n",
        "    # Compute padding\r\n",
        "    ratio = r, r  # width, height ratios\r\n",
        "    new_unpad = int(round(shape[1] * r)), int(round(shape[0] * r))\r\n",
        "    dw, dh = new_shape[1] - new_unpad[0], new_shape[0] - new_unpad[1]  # wh padding\r\n",
        "    if auto:  # minimum rectangle\r\n",
        "        dw, dh = np.mod(dw, 32), np.mod(dh, 32)  # wh padding\r\n",
        "    elif scaleFill:  # stretch\r\n",
        "        dw, dh = 0.0, 0.0\r\n",
        "        new_unpad = (new_shape[1], new_shape[0])\r\n",
        "        ratio = new_shape[1] / shape[1], new_shape[0] / shape[0]  # width, height ratios\r\n",
        " \r\n",
        "    dw /= 2  # divide padding into 2 sides\r\n",
        "    dh /= 2\r\n",
        " \r\n",
        "    if shape[::-1] != new_unpad:  # resize\r\n",
        "        img = cv2.resize(img, new_unpad, interpolation=cv2.INTER_LINEAR)\r\n",
        "    top, bottom = int(round(dh - 0.1)), int(round(dh + 0.1))\r\n",
        "    left, right = int(round(dw - 0.1)), int(round(dw + 0.1))\r\n",
        "    img = cv2.copyMakeBorder(img, top, bottom, left, right, cv2.BORDER_CONSTANT, value=color)  # add border\r\n",
        "    return img, ratio, (dw, dh)"
      ],
      "execution_count": null,
      "outputs": []
    },
    {
      "cell_type": "code",
      "metadata": {
        "colab": {
          "base_uri": "https://localhost:8080/"
        },
        "id": "CQg1wFN_rj-U",
        "outputId": "960c8e1e-6496-4200-e9dc-657269cee92d"
      },
      "source": [
        "import argparse\r\n",
        "import time\r\n",
        "from pathlib import Path\r\n",
        " \r\n",
        "import cv2\r\n",
        "import torch\r\n",
        "import torch.backends.cudnn as cudnn\r\n",
        "from numpy import random\r\n",
        " \r\n",
        "from models.experimental import attempt_load\r\n",
        "# from utils.datasets import LoadStreams, LoadImages\r\n",
        "from utils.general import check_img_size, non_max_suppression, apply_classifier, scale_coords, xyxy2xywh, \\\r\n",
        "    strip_optimizer, set_logging, increment_path\r\n",
        "from utils.plots import plot_one_box\r\n",
        "from utils.torch_utils import select_device, load_classifier, time_synchronized\r\n",
        " \r\n",
        " \r\n",
        "parser = argparse.ArgumentParser()\r\n",
        "parser.add_argument('--classes', nargs='+', type=int, help='filter by class')\r\n",
        "parser.add_argument('--agnostic-nms', action='store_true', help='class-agnostic NMS')\r\n",
        "parser.add_argument('--img-size', type=int, default=416, help='inference size (pixels)')\r\n",
        "opt = parser.parse_args(args = [])\r\n",
        " \r\n",
        "weights,imgsz = 'yoloV5_customObject_mask/mask.pt',512\r\n",
        " \r\n",
        "# Initialize\r\n",
        "set_logging()\r\n",
        "device = select_device()\r\n",
        "half = device.type != 'cpu'  # half precision only supported on CUDA\r\n",
        " \r\n",
        "# Load model\r\n",
        "model = attempt_load(weights, map_location=device)  # load FP32 model\r\n",
        "imgsz = check_img_size(imgsz, s=model.stride.max())  # check img_size\r\n",
        "if half:\r\n",
        "  model.half()  # to FP16\r\n",
        " \r\n",
        "# Second-stage classifier\r\n",
        "classify = False\r\n",
        "if classify:\r\n",
        "  modelc = load_classifier(name='resnet101', n=2)  # initialize\r\n",
        "  modelc.load_state_dict(torch.load('weights/resnet101.pt', map_location=device)['model']).to(device).eval()\r\n",
        " \r\n",
        "# Get names and colors\r\n",
        "names = model.module.names if hasattr(model, 'module') else model.names\r\n",
        "colors = [[random.randint(0, 255) for _ in range(3)] for _ in names]\r\n",
        "def js_reply_to_image(js_reply):\r\n",
        "    \"\"\"\r\n",
        "    input: \r\n",
        "          js_reply: JavaScript object, contain image from webcam\r\n",
        " \r\n",
        "    output: \r\n",
        "          image_array: image array RGB size 512 x 512 from webcam\r\n",
        "    \"\"\"\r\n",
        "    jpeg_bytes = base64.b64decode(js_reply['img'].split(',')[1])\r\n",
        "    image_PIL = Image.open(io.BytesIO(jpeg_bytes))\r\n",
        "    image_array = np.array(image_PIL)\r\n",
        " \r\n",
        "    return image_array\r\n",
        " \r\n",
        "def get_drawing_array(image_array): \r\n",
        "    \"\"\"\r\n",
        "    input: \r\n",
        "          image_array: image array RGB size 512 x 512 from webcam\r\n",
        " \r\n",
        "    output: \r\n",
        "          drawing_array: image RGBA size 512 x 512 only contain bounding box and text, \r\n",
        "                              channel A value = 255 if the pixel contains drawing properties (lines, text) \r\n",
        "                              else channel A value = 0\r\n",
        "    \"\"\"\r\n",
        "    drawing_array = np.zeros([512,512,4], dtype=np.uint8)\r\n",
        "    img = letterbox(image_array, new_shape=imgsz)[0]\r\n",
        " \r\n",
        "    img = img.transpose(2, 0, 1)\r\n",
        "    img = np.ascontiguousarray(img)\r\n",
        " \r\n",
        "    img = torch.from_numpy(img).to(device)\r\n",
        "    img = img.float()  # uint8 to fp16/32\r\n",
        "    img /= 255.0 # (0 - 255) to (0.0 - 1.0)\r\n",
        "    if img.ndimension() == 3:\r\n",
        "        img = img.unsqueeze(0)\r\n",
        " \r\n",
        "    pred = model(img)[0]\r\n",
        "    # Apply NMS\r\n",
        "    pred = non_max_suppression(pred,0.3,0.6, classes=opt.classes, agnostic=opt.agnostic_nms)\r\n",
        " \r\n",
        "    # Process detections\r\n",
        "    det = pred[0]\r\n",
        "    if det is not None and len(det):\r\n",
        "        det[:, :4] = scale_coords(img.shape[2:], det[:, :4], image_array.shape).round()\r\n",
        " \r\n",
        "        # Write results\r\n",
        "        for *xyxy, conf, cls in det:\r\n",
        "            label = '%s %.2f' % (names[int(cls)], conf)\r\n",
        "            plot_one_box(xyxy, drawing_array, label=label, color=colors[int(cls)])\r\n",
        " \r\n",
        "    drawing_array[:,:,3] = (drawing_array.max(axis = 2) > 0 ).astype(int) * 255\r\n",
        " \r\n",
        "    return drawing_array\r\n",
        " \r\n",
        "def drawing_array_to_bytes(drawing_array):\r\n",
        "    \"\"\"\r\n",
        "    input: \r\n",
        "          drawing_array: image RGBA size 512 x 512 \r\n",
        "                              contain bounding box and text from yolo prediction, \r\n",
        "                              channel A value = 255 if the pixel contains drawing properties (lines, text) \r\n",
        "                              else channel A value = 0\r\n",
        " \r\n",
        "    output: \r\n",
        "          drawing_bytes: string, encoded from drawing_array\r\n",
        "    \"\"\"\r\n",
        " \r\n",
        "    drawing_PIL = Image.fromarray(drawing_array, 'RGBA')\r\n",
        "    iobuf = io.BytesIO()\r\n",
        "    drawing_PIL.save(iobuf, format='png')\r\n",
        "    drawing_bytes = 'data:image/png;base64,{}'.format((str(base64.b64encode(iobuf.getvalue()), 'utf-8')))\r\n",
        "    return drawing_bytes"
      ],
      "execution_count": null,
      "outputs": [
        {
          "output_type": "stream",
          "text": [
            "Using torch 1.7.0+cu101 CPU\n",
            "\n"
          ],
          "name": "stderr"
        },
        {
          "output_type": "stream",
          "text": [
            "Fusing layers... \n"
          ],
          "name": "stdout"
        },
        {
          "output_type": "stream",
          "text": [
            "Model Summary: 232 layers, 7249215 parameters, 0 gradients, 16.8 GFLOPS\n"
          ],
          "name": "stderr"
        }
      ]
    },
    {
      "cell_type": "code",
      "metadata": {
        "colab": {
          "base_uri": "https://localhost:8080/",
          "height": 511
        },
        "id": "cGJvaAY6rkFC",
        "outputId": "6dce4eee-f0c3-481e-9150-07d16687158c"
      },
      "source": [
        "start_input()\r\n",
        "label_html = 'Capturing...'\r\n",
        "img_data = ''\r\n",
        "count = 0 \r\n",
        "while True:\r\n",
        "    js_reply = take_photo(label_html, img_data)\r\n",
        "    if not js_reply:\r\n",
        "        break\r\n",
        " \r\n",
        "    image = js_reply_to_image(js_reply)\r\n",
        "    drawing_array = get_drawing_array(image) \r\n",
        "    drawing_bytes = drawing_array_to_bytes(drawing_array)\r\n",
        "    img_data = drawing_bytes"
      ],
      "execution_count": null,
      "outputs": [
        {
          "output_type": "display_data",
          "data": {
            "application/javascript": [
              "\n",
              "    var video;\n",
              "    var div = null;\n",
              "    var stream;\n",
              "    var captureCanvas;\n",
              "    var imgElement;\n",
              "    var labelElement;\n",
              "    \n",
              "    var pendingResolve = null;\n",
              "    var shutdown = false;\n",
              "    \n",
              "    function removeDom() {\n",
              "       stream.getVideoTracks()[0].stop();\n",
              "       video.remove();\n",
              "       div.remove();\n",
              "       video = null;\n",
              "       div = null;\n",
              "       stream = null;\n",
              "       imgElement = null;\n",
              "       captureCanvas = null;\n",
              "       labelElement = null;\n",
              "    }\n",
              "    \n",
              "    function onAnimationFrame() {\n",
              "      if (!shutdown) {\n",
              "        window.requestAnimationFrame(onAnimationFrame);\n",
              "      }\n",
              "      if (pendingResolve) {\n",
              "        var result = \"\";\n",
              "        if (!shutdown) {\n",
              "          captureCanvas.getContext('2d').drawImage(video, 0, 0, 512, 512);\n",
              "          result = captureCanvas.toDataURL('image/jpeg', 0.8)\n",
              "        }\n",
              "        var lp = pendingResolve;\n",
              "        pendingResolve = null;\n",
              "        lp(result);\n",
              "      }\n",
              "    }\n",
              "    \n",
              "    async function createDom() {\n",
              "      if (div !== null) {\n",
              "        return stream;\n",
              "      }\n",
              " \n",
              "      div = document.createElement('div');\n",
              "      div.style.border = '2px solid black';\n",
              "      div.style.padding = '3px';\n",
              "      div.style.width = '100%';\n",
              "      div.style.maxWidth = '600px';\n",
              "      document.body.appendChild(div);\n",
              "      \n",
              "      const modelOut = document.createElement('div');\n",
              "      modelOut.innerHTML = \"<span>Status:</span>\";\n",
              "      labelElement = document.createElement('span');\n",
              "      labelElement.innerText = 'No data';\n",
              "      labelElement.style.fontWeight = 'bold';\n",
              "      modelOut.appendChild(labelElement);\n",
              "      div.appendChild(modelOut);\n",
              "           \n",
              "      video = document.createElement('video');\n",
              "      video.style.display = 'block';\n",
              "      video.width = div.clientWidth - 6;\n",
              "      video.setAttribute('playsinline', '');\n",
              "      video.onclick = () => { shutdown = true; };\n",
              "      stream = await navigator.mediaDevices.getUserMedia(\n",
              "          {video: { facingMode: \"environment\"}});\n",
              "      div.appendChild(video);\n",
              " \n",
              "      imgElement = document.createElement('img');\n",
              "      imgElement.style.position = 'absolute';\n",
              "      imgElement.style.zIndex = 1;\n",
              "      imgElement.onclick = () => { shutdown = true; };\n",
              "      div.appendChild(imgElement);\n",
              "      \n",
              "      const instruction = document.createElement('div');\n",
              "      instruction.innerHTML = \n",
              "          '<span style=\"color: red; font-weight: bold;\">' +\n",
              "          'When finished, click here or on the video to stop this demo</span>';\n",
              "      div.appendChild(instruction);\n",
              "      instruction.onclick = () => { shutdown = true; };\n",
              "      \n",
              "      video.srcObject = stream;\n",
              "      await video.play();\n",
              " \n",
              "      captureCanvas = document.createElement('canvas');\n",
              "      captureCanvas.width = 512; //video.videoWidth;\n",
              "      captureCanvas.height = 512; //video.videoHeight;\n",
              "      window.requestAnimationFrame(onAnimationFrame);\n",
              "      \n",
              "      return stream;\n",
              "    }\n",
              "    async function takePhoto(label, imgData) {\n",
              "      if (shutdown) {\n",
              "        removeDom();\n",
              "        shutdown = false;\n",
              "        return '';\n",
              "      }\n",
              " \n",
              "      var preCreate = Date.now();\n",
              "      stream = await createDom();\n",
              "      \n",
              "      var preShow = Date.now();\n",
              "      if (label != \"\") {\n",
              "        labelElement.innerHTML = label;\n",
              "      }\n",
              "            \n",
              "      if (imgData != \"\") {\n",
              "        var videoRect = video.getClientRects()[0];\n",
              "        imgElement.style.top = videoRect.top + \"px\";\n",
              "        imgElement.style.left = videoRect.left + \"px\";\n",
              "        imgElement.style.width = videoRect.width + \"px\";\n",
              "        imgElement.style.height = videoRect.height + \"px\";\n",
              "        imgElement.src = imgData;\n",
              "      }\n",
              "      \n",
              "      var preCapture = Date.now();\n",
              "      var result = await new Promise(function(resolve, reject) {\n",
              "        pendingResolve = resolve;\n",
              "      });\n",
              "      shutdown = false;\n",
              "      \n",
              "      return {'create': preShow - preCreate, \n",
              "              'show': preCapture - preShow, \n",
              "              'capture': Date.now() - preCapture,\n",
              "              'img': result};\n",
              "    }\n",
              "    "
            ],
            "text/plain": [
              "<IPython.core.display.Javascript object>"
            ]
          },
          "metadata": {
            "tags": []
          }
        }
      ]
    },
    {
      "cell_type": "code",
      "metadata": {
        "id": "pp7V8WkDxmp_"
      },
      "source": [
        ""
      ],
      "execution_count": null,
      "outputs": []
    }
  ]
}